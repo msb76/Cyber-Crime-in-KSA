{
 "cells": [
  {
   "cell_type": "markdown",
   "metadata": {},
   "source": [
    "<img src=\"../Images/header.png\"/>"
   ]
  },
  {
   "cell_type": "markdown",
   "metadata": {},
   "source": [
    "# <div align=\"center\"> Cybercrimes Awareness in Saudi Arabia</div>"
   ]
  },
  {
   "cell_type": "markdown",
   "metadata": {},
   "source": [
    "## Introduction"
   ]
  },
  {
   "cell_type": "markdown",
   "metadata": {},
   "source": [
    "### Bussiness Domain Understanding\n",
    "Cyber crime cases are drastically increasing in Saudi Arabia. At present, Saudi Arabia is one of the top 10 countries in significant cyber attacks.[1] These cyber attacks lead to serious damages for individuals, companies and governments. *See infographic below.[2]* In order to reduce these cyber attacks and minimize their damages, the project will identify awareness measures of Saudi people about the danger of cyber crimes and will find out the major factors for becoming a potential victim. After identifying the factors, a model will be created to predict if a person will become a victim of cyber crime or not. \n",
    "\n",
    "\n",
    "<div align='center'><img src=\"../Images/intro_image.png\" alt=\"Cybercrime Damages\" title=\"Cybercrime Damages\" width='700' align='center'/></div>"
   ]
  },
  {
   "cell_type": "markdown",
   "metadata": {},
   "source": [
    "### Saudi 2030 vision\n",
    "The  2030 VISION OF SAUDI ARABIA  seeks to Increase the Country Income that is not based on Oil that include Information Technology Sector where decreasing the Internet Security Threats to save the lost Money and to use the lost money in other beneficial areas such as investments and Organizations Development and other."
   ]
  },
  {
   "cell_type": "markdown",
   "metadata": {},
   "source": [
    "### Stakeholders\n",
    "This project will contribute to many entities, such as:\n",
    " - Cyber security company \n",
    " - Saudi Federation for Cybersecurity, Programming and Drones (SAFCSP)\n",
    " - Businesses (organizations) that want to measure the awareness of their employees\n",
    " - Any company that is working remotely, needs to check security applications of their employees to ensure consistent work"
   ]
  },
  {
   "cell_type": "markdown",
   "metadata": {},
   "source": [
    "## Dataset"
   ]
  },
  {
   "cell_type": "markdown",
   "metadata": {},
   "source": [
    "### Overview\n",
    "It is a survey conducted using Google forms on Saudis whose age is not less than 18. It consists of 64 questions, which indicates the number of columns and 1230 number of responses which indicates the number of rows.[3] The dataset contains many descriptive columns about respondents' behaviors towards security practices and their thoughts and opinions about cyber crimes."
   ]
  },
  {
   "cell_type": "markdown",
   "metadata": {},
   "source": [
    "### Dataset Cleaning\n",
    "To turn the questionnaire answers into a more usable format for visualization and modeling, heavy cleaning was conducted on most of the columns. **Cleaning divided into several steps**:\n",
    " - Handling NAN values by dropping columns with 60% NAN values and more, and dropping columns that depend on other columns.\n",
    "<img src=\"../Images/MissingValues.png\" alt=\"MissingValues\" title=\"MissingValues\" />\n",
    " - Handling extra white spaces by trimming white spaces at the beginning or the end of all cells \n",
    " - Handling empty values by filling empty values with mode\n",
    " - Summarize long answers into shorter format\n",
    " - Reassign some values into more understandable values such as age groups from `'18-29','30-39','40-49','50+'` into `\"Early adulthood\",\"Adult\",\"Mature adulthood\"`\n",
    " - Created more structured columns extracted from hard to visualize columns.\n",
    "<div align='center'><img src=\"../Images/clean1.png\" alt=\"clean1\" title=\"clean1\" width='700' /><div align='center'>"
   ]
  },
  {
   "cell_type": "markdown",
   "metadata": {},
   "source": [
    "## EDA & Insights"
   ]
  },
  {
   "cell_type": "markdown",
   "metadata": {},
   "source": [
    "The dataset is rich of information, in order to explore the most of it, it is divided into two sections: data to identify the factors of becoming a victim, and data to measure people understanding about Cybercrimes and its best/bad practices."
   ]
  },
  {
   "cell_type": "markdown",
   "metadata": {},
   "source": [
    "### Factors\n",
    "Here are some factors found in the dataset that influences of becoming a victim or not:\n",
    " - Number of security apps installed in devices\n",
    " - The purpose of using the internet\n",
    " - Good practices followed, such as updating security apps regularly\n"
   ]
  },
  {
   "cell_type": "markdown",
   "metadata": {},
   "source": [
    "#### Insight 1: The less number of security apps the higher potential of becoming a victim \n",
    "<div align='center'><img src=\"../Images/EDA/plot1.jpg\" alt=\"plot1\" title=\"plot1\" width='1000' /></div>"
   ]
  },
  {
   "cell_type": "markdown",
   "metadata": {},
   "source": [
    "#### Insight 2: Which type of attacks has the most effect on becoming a victim?\n",
    "<div align='center'><img src=\"../Images/EDA/plot2.jpg\" alt=\"plot2\" title=\"plot2\" width='1000' /></div>"
   ]
  },
  {
   "cell_type": "markdown",
   "metadata": {},
   "source": [
    "#### Insight 3: Which purpose has the most effect on becoming a victim?\n",
    "<div align='center'><img src=\"../Images/EDA/plot3.jpg\" alt=\"plot3\" title=\"plot3\" width='1000' /></div>"
   ]
  },
  {
   "cell_type": "markdown",
   "metadata": {},
   "source": [
    "#### Insight 4: The more good practices you follow the less potential of becoming a victim\n",
    "<img src=\"../Images/EDA/plot4.jpg\" alt=\"plot4\" title=\"plot4\" width='1000' />"
   ]
  },
  {
   "cell_type": "markdown",
   "metadata": {},
   "source": [
    "### Awareness\n",
    "This section discusses the awareness of respondants about their understanding the threats and attacks, and their behaviors towards them. In addition to ow do they keep them selves educated and updated about them."
   ]
  },
  {
   "cell_type": "markdown",
   "metadata": {},
   "source": [
    "#### Insight 5: People always receive threats/attacks\n",
    "<img src=\"../Images/EDA/plot5.jpg\" alt=\"plot5\" title=\"plot5\" width='1000'/>"
   ]
  },
  {
   "cell_type": "markdown",
   "metadata": {},
   "source": [
    "#### Insight 6: The more security level the the less potential of becoming victim\n",
    "<img src=\"../Images/EDA/plot6.jpg\" alt=\"plot6\" title=\"plot6\" width='1000'/>"
   ]
  },
  {
   "cell_type": "markdown",
   "metadata": {},
   "source": [
    "#### Insight 7: Most people agree with avoiding disclose personal information\n",
    "<img src=\"../Images/EDA/plot7.png\" alt=\"plot7\" title=\"plot7\" width='1000' />"
   ]
  },
  {
   "cell_type": "markdown",
   "metadata": {},
   "source": [
    "#### Insight 8: Whats are the top channels that people use to raise their awareness on cyber crimes?\n",
    "<img src=\"../Images/EDA/plot8.jpg\" alt=\"plot8\" title=\"plot8\" width='1000' />"
   ]
  },
  {
   "cell_type": "markdown",
   "metadata": {},
   "source": [
    "#### Insight 9: Which party is more responsible for raising the awareness of cyber crimes\n",
    "<img src=\"../Images/EDA/plot9.jpg\" alt=\"plot9\" title=\"plot9\" width='1000' />"
   ]
  },
  {
   "cell_type": "markdown",
   "metadata": {},
   "source": [
    "### Results\n",
    "After viewing the 9 presented charts above, unfortunately we should say that people in Saudi Arabia suffers lack of awareness about cybercrimes, which will lead to higher number of victims. \n",
    " - In insight 1, it is approved that the more security apps the user uses, the less probability of becoming a victim. So number of security apps used considered a major factor.\n",
    " - In insight 2, phishing emails and malwares have high occurance in Saudi Arabia.\n",
    " - In insight 3, victims indictes they're mostly using the internet to browse Social Network platforms \n",
    " - In insight 4, 71.3% of victims claims they are following a good practices to be safe from cyber attacks/threats, however, they are still being affected by them.\n",
    " - In insight 5, 44% of respondents claims they are victims and they don’t know if they’re been exposed to a cybercrime or not.\n",
    " - In insight 6, we can see the majority of victims see themselves as very secure towards cybercrimes\n",
    " - In insight 7, two pie charts presents a conflicting information gathered from victims. In the first chart, 84.9% of victims avoid disclosing their personal information, however, in the second chart shows that 51% of these people actually do share their information in the internet.\n",
    " - In insight 8, 23.3% keep themselves educated from online resources, however, 21.2% doesn’t keep themselves updated about cybercrimes which indicates a huge issue.\n",
    " - In insight 9, respondents see that it is a shared responsibility for the government, education systems, media, eservice companies and the user itselves to raise the awareness about cybercrimes.\n",
    "\n",
    "\n",
    "\n"
   ]
  },
  {
   "cell_type": "markdown",
   "metadata": {},
   "source": [
    "## Tableau Dasboard \n",
    "[Dashboard Link](https://public.tableau.com/app/profile/mohammed.saud/viz/project_16262227713860/Dashboard1)\n",
    "##### Interactive dashboard is provided to explore statistics of respondents demographics, education and their geographical locations  "
   ]
  },
  {
   "cell_type": "markdown",
   "metadata": {},
   "source": [
    "## Modeling\n",
    "### Overview\n",
    "There are 4 models created, Logistic regression, Decision Tree, Random Forest and Support Vector Classifier. In order to get the best scores out of the models, GridSearchCV is used along with the Pipeline model. Inside each pipeline, feature selection methods such as PCA and SelectKbest are passed before the model. At the end, a comparison is provided between the 4 models using Confusion Matrix metric and Accuracy Score metric.\n",
    "\n",
    "The dataset has about 61 features after cleaning. These features are preprocessed using One-Hot Encoding - Features with more than 3 unique values - and  Label Encoding - for features with ordinal values -, which increases the number of features to 80. "
   ]
  },
  {
   "cell_type": "markdown",
   "metadata": {},
   "source": [
    "#### The logistic regression model \n",
    "The idea of using logistic regression is working with classification type which is categorical data type in this case specifically. The model builds a logistic regression to predict the probability that belongs to a specific category in our case if the person is going to be a victim or not . The cybercrime dataset is categorical, so its classification type and we start to apply the first model which is the logistic model and we tried a couple of preprocessing mechanisms on the dataset to get the best score. "
   ]
  },
  {
   "cell_type": "markdown",
   "metadata": {},
   "source": [
    "#### The Decision Tree model  \n",
    "Commonly used model because it can be applied for both classification and regression. The features in the decision tree continuously split according to the specified parameter. The decision tree model starts from the decision itself, -node- and continues with branches until it reaches the final point -pure leaf-."
   ]
  },
  {
   "cell_type": "markdown",
   "metadata": {},
   "source": [
    "#### The Random Forest model \n",
    "Works with both classification and regression. It is a collection of decision trees. It is applied to the cybercrime dataset to choose the best fit class and get the majority. "
   ]
  },
  {
   "cell_type": "markdown",
   "metadata": {},
   "source": [
    "#### The SVC model\n",
    "Support Vector Classifier fits the provided data and returns the best fit that categorizes the data after that we can get the features to the classifier to see the predicted class."
   ]
  },
  {
   "cell_type": "markdown",
   "metadata": {},
   "source": [
    "### Challenges\n",
    " - **The Dataset Complexity** is very high and its very messy that filled with missing values and long sentences and commas and spaces.\n",
    " - **The Data Justice Concept** where the data is very biased toward specific class and needs to be rearranged to be more suitable for testing in the model.\n",
    " - **Beating the baseline model**, The baseline model we use it to evaluate all other models and from the baseline we can discover our limits.\n",
    "#### Best Solution\n",
    "After Conducting many methods to fix the faced issues, we found out that the best solution is to remove around 200 records from the dataset because going with this method would not just resolve the missing values issue but also would resolve the bias in the dataset and make it more suitable and equivalent. Beating the baseline model in the start was a rough process but after removing the specified records and decreasing the bias in the dataset now the data classes gap minimized which makes more sense."
   ]
  },
  {
   "cell_type": "markdown",
   "metadata": {},
   "source": [
    "### Results\n",
    "In order to choose the best model, some factors are set:\n",
    " - Model score should beat the baseline\n",
    " - model should predict both classes\n",
    " - Model should have at least 1 correct prediction per class\n",
    " - Model should select features that make sense\n",
    "\n",
    "We can see that all models have beat the baseline. However, the only model performed well in terms of Feature selection, Score and predicting both classes along with correct predictions is **Random Forest model**. *See Features selected by Random Forest Model below*\n",
    "\n",
    "#### Accuracy Scores\n",
    "| Model | Score |\n",
    "|------|-------|\n",
    "| BaseLine | 0.7707317073170732 |\n",
    "| Logistic Regression | 0.824390243902439 |\n",
    "| Decision Tree Classifier | 0.824390243902439 |\n",
    "| Random Forest Classifier | 0.8146341463414634 |\n",
    "| SVC | 0.824390243902439 |\n",
    "#### Confusion Matrices\n",
    "<div align='center'><img src=\"../Images/conmat.png\" alt=\"ConfusionMatrices\" title=\"Confusion Matrices\" width='900'/></div>\n",
    "\n",
    "#### Feature Selection\n",
    "<div align='center'><img src=\"../Images/FeatureImportance.png\" alt=\"FeatureImportance\" title=\"FeatureImportance\"  width='900'/></div>\n"
   ]
  },
  {
   "cell_type": "markdown",
   "metadata": {},
   "source": [
    "## Conclusion\n",
    "As years pass, cybercrime increases and it will always be a huge case that each individual should be educated on. This report discussed cybercrimes’ victim behaviors, awareness and understandings about security practices. The dataset used is a questionnaire. The cleaning process turned the questionnaire answers into a more suitable data format to be used in EDA and modeling. The EDA part  discusses and proves cybercrimes lack of awareness. In the modeling part, the Random Forest model performs the best to identify if a person would be a victim or not based on certain factors.\n",
    "\n",
    "**Further improvements and future work:**\n",
    " - Add the project into Different blogs.\n",
    " - Share The Results with the Local Community\n",
    " - Continue to develop the project.\n",
    " - Publish The work and add more Data.\n"
   ]
  },
  {
   "cell_type": "markdown",
   "metadata": {},
   "source": [
    "## Refrences\n",
    "[1]*The Most Significant Cyber Attacks from 2006-2020, by Country* [Source](https://www.visualcapitalist.com/cyber-attacks-worldwide-2006-2020/)\n",
    "\n",
    "[2]*Cybercrime in Saudi Arabia: fact or fiction?* [Source](https://www.ijcsi.org/papers/IJCSI-14-2-36-42.pdf)\n",
    "\n",
    "[3]*Cybercrime Awareness among Saudi Nationals* [Source](https://www.kaggle.com/shashwatwork/cybercrime-awareness-among-saudi-nationals)"
   ]
  },
  {
   "cell_type": "markdown",
   "metadata": {},
   "source": [
    "## Group Members:\n",
    " - **Ahmed Altowairqi**\n",
    " - **Mohammed Albesher**\n",
    " - **Abdulrahman Aljubaylan**\n",
    " - **Abdullah Albutih**\n",
    " - **Raghad Almeataz**"
   ]
  }
 ],
 "metadata": {
  "kernelspec": {
   "display_name": "Python 3",
   "language": "python",
   "name": "python3"
  },
  "language_info": {
   "codemirror_mode": {
    "name": "ipython",
    "version": 3
   },
   "file_extension": ".py",
   "mimetype": "text/x-python",
   "name": "python",
   "nbconvert_exporter": "python",
   "pygments_lexer": "ipython3",
   "version": "3.8.5"
  }
 },
 "nbformat": 4,
 "nbformat_minor": 4
}
