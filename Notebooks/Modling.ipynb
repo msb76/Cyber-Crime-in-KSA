{
 "cells": [
  {
   "cell_type": "code",
   "execution_count": 1,
   "metadata": {},
   "outputs": [],
   "source": [
    "import pandas as pd\n",
    "import numpy as np\n",
    "import seaborn as sns\n",
    "import matplotlib.pyplot as plt\n",
    "# data description \n",
    "from data_des_ import data_des\n",
    "#encoder\n",
    "from sklearn.preprocessing import LabelEncoder , OrdinalEncoder , OneHotEncoder\n",
    "#split\n",
    "from sklearn.model_selection import train_test_split\n",
    "# score\n",
    "from sklearn.metrics import accuracy_score\n",
    "# for the warning \n",
    "import warnings\n",
    "warnings.filterwarnings('ignore')\n",
    "\n",
    "\n",
    "# Pipeline\n",
    "from sklearn.pipeline import Pipeline\n",
    "from sklearn.pipeline import make_pipeline\n",
    "from sklearn.compose import ColumnTransformer\n",
    "\n",
    "# PCA\n",
    "from sklearn.decomposition import PCA\n",
    "\n",
    "#Grid Search\n",
    "from sklearn.model_selection import GridSearchCV\n",
    "\n",
    "#confusion matrix\n",
    "from sklearn.metrics import plot_confusion_matrix\n",
    "# Select K best\n",
    "from sklearn.feature_selection import SelectKBest, chi2\n",
    "\n",
    "# Model's Algorthims\n",
    "from sklearn.linear_model import LogisticRegression\n",
    "from sklearn.tree import DecisionTreeClassifier\n",
    "from sklearn.ensemble import RandomForestClassifier\n",
    "from sklearn.svm import SVC\n"
   ]
  },
  {
   "cell_type": "code",
   "execution_count": 2,
   "metadata": {},
   "outputs": [],
   "source": [
    "# read the data\n",
    "df = pd.read_csv(\"../Data/cleaned.csv\")"
   ]
  },
  {
   "cell_type": "code",
   "execution_count": 3,
   "metadata": {},
   "outputs": [],
   "source": [
    "# make a copy of the data\n",
    "df_copy = df.copy()"
   ]
  },
  {
   "cell_type": "code",
   "execution_count": 4,
   "metadata": {},
   "outputs": [],
   "source": [
    "# Split the data\n",
    "X_train, X_test = train_test_split(df_copy, \n",
    "                                   test_size = 0.20, \n",
    "                                   random_state = 42)"
   ]
  },
  {
   "cell_type": "code",
   "execution_count": 5,
   "metadata": {},
   "outputs": [],
   "source": [
    "# take these columns to use one hot encoder later on it \n",
    "categoricalcols=['gender','age','education','connection_type','new_major','regions','PC_OS','phone_OS','future_feeling_CC']\n"
   ]
  },
  {
   "cell_type": "code",
   "execution_count": 6,
   "metadata": {},
   "outputs": [],
   "source": [
    "#label encoder\n",
    "# take the column's names that we wanted to do the label encoder on them\n",
    "last_15_columns_names = [column_name for column_name in X_train.columns]"
   ]
  },
  {
   "cell_type": "markdown",
   "metadata": {},
   "source": [
    "### Label Encoder"
   ]
  },
  {
   "cell_type": "code",
   "execution_count": 7,
   "metadata": {},
   "outputs": [],
   "source": [
    "# LabelEncoder #7\n",
    "le = LabelEncoder()\n",
    "\n",
    "\n",
    "# take each column name and encoded except the target will map it\n",
    "for col_name in last_15_columns_names:\n",
    "    # target\n",
    "    if col_name == \"victim\":\n",
    "        X_train[col_name] = X_train[col_name].map({'Yes': 1, 'No': 0})\n",
    "        X_test[col_name] = X_test[col_name].map({'Yes': 1, 'No': 0})\n",
    "    elif (col_name == \"freq_used\") | (col_name == \"used_purpose\") | (col_name == \"security_apps\") \\\n",
    "            | (col_name == \"Internet_security\") | (col_name == \"updated_about_CC_(offline Sources)\") \\\n",
    "            | (col_name == \"updated_about_CC(_Online Sources)\") | (col_name == \"major\")\\\n",
    "            | (col_name == \"regoins\") | ((col_name in categoricalcols) == True) :\n",
    "        pass\n",
    "\n",
    "    else:\n",
    "        X_train[col_name] = le.fit_transform(X_train[col_name])\n",
    "        X_test[col_name] = le.transform(X_test[col_name])\n",
    "\n"
   ]
  },
  {
   "cell_type": "markdown",
   "metadata": {},
   "source": [
    "### One Hot Encoder"
   ]
  },
  {
   "cell_type": "code",
   "execution_count": 8,
   "metadata": {},
   "outputs": [],
   "source": [
    "# here using the one hot encoder \n",
    "one_hot = OneHotEncoder()\n",
    "\n",
    "# One Hot encode the column\n",
    "one_hot_df = one_hot.fit_transform(X_train[categoricalcols]).toarray()\n",
    "one_hot_df_test = one_hot.transform(X_test[categoricalcols]).toarray()\n",
    "#Column names\n",
    "column_names = []\n",
    "for y in range(len(one_hot.categories_)):\n",
    "    for z in range(len(one_hot.categories_[y])):\n",
    "        column_names.append(categoricalcols[y]+\"_\"+one_hot.categories_[y][z])\n",
    "#Turn Encoded data into a df and add column names\n",
    "oh_df = pd.DataFrame(\n",
    "    one_hot_df,\n",
    "    index=X_train.index,\n",
    "    columns = column_names\n",
    ")\n",
    "oh_df_test = pd.DataFrame(\n",
    "    one_hot_df_test,\n",
    "    index=X_test.index,\n",
    "    columns = column_names\n",
    ")\n",
    "#Merge one hot encoded df to train and test dfs \n",
    "X_train = X_train.merge( oh_df, on=X_train.index).set_index(\"key_0\").drop(categoricalcols, axis=1)\n",
    "X_test = X_test.merge(oh_df_test, on=X_test.index).set_index(\"key_0\").drop(categoricalcols, axis=1)\n"
   ]
  },
  {
   "cell_type": "code",
   "execution_count": 9,
   "metadata": {},
   "outputs": [],
   "source": [
    "## split to x and y \n",
    "y_train=X_train['victim']\n",
    "X_train = X_train.drop([\"victim\",\"freq_used\",\"major\" ,\"Internet_security\",\"used_purpose\",\"security_apps\",\"updated_about_CC_(offline Sources)\",\"updated_about_CC(_Online Sources)\",\"not_victim_would_like_to_report\",\"new_ragions\"], axis = 1)\n",
    "\n",
    "y_test=X_test['victim']\n",
    "X_test = X_test.drop([\"victim\",\"freq_used\",\"major\" ,\"Internet_security\",\"used_purpose\",\"security_apps\", \"updated_about_CC_(offline Sources)\",\"updated_about_CC(_Online Sources)\",\"not_victim_would_like_to_report\",\"new_ragions\"], axis = 1)"
   ]
  },
  {
   "cell_type": "markdown",
   "metadata": {},
   "source": [
    "### BaseLine"
   ]
  },
  {
   "cell_type": "code",
   "execution_count": 10,
   "metadata": {},
   "outputs": [
    {
     "data": {
      "text/plain": [
       "0    0.770732\n",
       "1    0.229268\n",
       "Name: victim, dtype: float64"
      ]
     },
     "execution_count": 10,
     "metadata": {},
     "output_type": "execute_result"
    }
   ],
   "source": [
    "##### This is the baseline \n",
    "y_train.value_counts(normalize=True)"
   ]
  },
  {
   "cell_type": "markdown",
   "metadata": {},
   "source": [
    "### Logistic Regression"
   ]
  },
  {
   "cell_type": "code",
   "execution_count": 11,
   "metadata": {},
   "outputs": [],
   "source": [
    "# Create a Pipeline and create PCA\n",
    "pipe_with_pca_lr = make_pipeline(\n",
    "#     PCA(),\n",
    "    SelectKBest(score_func=chi2),\n",
    "    LogisticRegression()\n",
    ")"
   ]
  },
  {
   "cell_type": "code",
   "execution_count": 12,
   "metadata": {},
   "outputs": [
    {
     "name": "stdout",
     "output_type": "stream",
     "text": [
      "Fitting 10 folds for each of 1680 candidates, totalling 16800 fits\n"
     ]
    },
    {
     "name": "stderr",
     "output_type": "stream",
     "text": [
      "[Parallel(n_jobs=-1)]: Using backend LokyBackend with 12 concurrent workers.\n",
      "[Parallel(n_jobs=-1)]: Done  26 tasks      | elapsed:    2.9s\n",
      "[Parallel(n_jobs=-1)]: Done 664 tasks      | elapsed:    5.2s\n",
      "[Parallel(n_jobs=-1)]: Done 2664 tasks      | elapsed:   11.7s\n",
      "[Parallel(n_jobs=-1)]: Done 5464 tasks      | elapsed:   19.7s\n",
      "[Parallel(n_jobs=-1)]: Done 9064 tasks      | elapsed:   32.3s\n",
      "[Parallel(n_jobs=-1)]: Done 13464 tasks      | elapsed:   45.5s\n",
      "[Parallel(n_jobs=-1)]: Done 16800 out of 16800 | elapsed:   54.9s finished\n"
     ]
    },
    {
     "data": {
      "text/plain": [
       "GridSearchCV(cv=10,\n",
       "             estimator=Pipeline(steps=[('selectkbest',\n",
       "                                        SelectKBest(score_func=<function chi2 at 0x7fa5389645e0>)),\n",
       "                                       ('logisticregression',\n",
       "                                        LogisticRegression())]),\n",
       "             n_jobs=-1,\n",
       "             param_grid={'logisticregression__C': [1, 0.9, 0.8, 0.7, 0.6, 0.5,\n",
       "                                                   0.4, 0.3, 0.2, 0.1],\n",
       "                         'logisticregression__max_iter': [1, 2, 4, 6, 8, 10],\n",
       "                         'logisticregression__random_state': [42],\n",
       "                         'selectkbest__k': [1, 4, 7, 10, 13, 16, 19, 22, 25, 28,\n",
       "                                            31, 34, 37, 40, 43, 46, 49, 52, 55,\n",
       "                                            58, 61, 64, 67, 70, 73, 76, 79,\n",
       "                                            82]},\n",
       "             verbose=1)"
      ]
     },
     "execution_count": 12,
     "metadata": {},
     "output_type": "execute_result"
    }
   ],
   "source": [
    "#GridSearchCV\n",
    "param_grid = {\n",
    "    \"selectkbest__k\": list(range(1,84,3)),\n",
    "#     \"pca__n_components\": [0.7,0.8,0.85,0.9,0.95], # all components explains the most variance\n",
    "    \"logisticregression__C\": [1, 0.9, 0.8, 0.7, 0.6, 0.5, 0.4, 0.3, 0.2, 0.1],\n",
    "    \"logisticregression__max_iter\": [1,2,4,6,8,10],\n",
    "    \"logisticregression__random_state\" : [42],\n",
    "}\n",
    "\n",
    "gridlr = GridSearchCV(\n",
    "    pipe_with_pca_lr, \n",
    "    param_grid=param_grid, \n",
    "    cv=10, \n",
    "    verbose=1, # Higher number means the training step show more output\n",
    "    n_jobs=-1 # Use all available cores on my computer \n",
    ")\n",
    "\n",
    "gridlr.fit(X_train,y_train)"
   ]
  },
  {
   "cell_type": "code",
   "execution_count": 13,
   "metadata": {},
   "outputs": [
    {
     "data": {
      "text/plain": [
       "{'logisticregression__C': 1,\n",
       " 'logisticregression__max_iter': 4,\n",
       " 'logisticregression__random_state': 42,\n",
       " 'selectkbest__k': 10}"
      ]
     },
     "execution_count": 13,
     "metadata": {},
     "output_type": "execute_result"
    }
   ],
   "source": [
    "# Best Parameters\n",
    "gridlr.best_params_"
   ]
  },
  {
   "cell_type": "code",
   "execution_count": 14,
   "metadata": {},
   "outputs": [
    {
     "data": {
      "text/plain": [
       "0.771951219512195"
      ]
     },
     "execution_count": 14,
     "metadata": {},
     "output_type": "execute_result"
    }
   ],
   "source": [
    "gridlr.best_score_"
   ]
  },
  {
   "cell_type": "code",
   "execution_count": 15,
   "metadata": {},
   "outputs": [
    {
     "data": {
      "text/plain": [
       "0.824390243902439"
      ]
     },
     "execution_count": 15,
     "metadata": {},
     "output_type": "execute_result"
    }
   ],
   "source": [
    "preds_lr = gridlr.predict(X_test)\n",
    "accuracy_score(y_test, preds_lr)"
   ]
  },
  {
   "cell_type": "code",
   "execution_count": 16,
   "metadata": {},
   "outputs": [
    {
     "data": {
      "image/png": "[encoded data removed]",
      "text/plain": [
       "<Figure size 432x288 with 2 Axes>"
      ]
     },
     "metadata": {
      "needs_background": "light"
     },
     "output_type": "display_data"
    }
   ],
   "source": [
    "plot_confusion_matrix(gridlr, X_test, y_test)\n",
    "plt.grid(False);"
   ]
  },
  {
   "cell_type": "code",
   "execution_count": 17,
   "metadata": {},
   "outputs": [
    {
     "data": {
      "image/png": "[encoded data removed]",
      "text/plain": [
       "<Figure size 432x288 with 1 Axes>"
      ]
     },
     "metadata": {
      "needs_background": "light"
     },
     "output_type": "display_data"
    }
   ],
   "source": [
    "# for i in range(len(gridlr.best_estimator_.named_steps['selectkbest'].scores_)):\n",
    "#     print('Feature %d: %f' % (i, gridlr.best_estimator_.named_steps['selectkbest'].scores_[i]))\n",
    "# here to see the best features for this model  \n",
    "plt.bar([i for i in range(len(gridlr.best_estimator_.named_steps['selectkbest'].scores_))], gridlr.best_estimator_.named_steps['selectkbest'].scores_)\n",
    "plt.show()"
   ]
  },
  {
   "cell_type": "markdown",
   "metadata": {},
   "source": [
    "### DecisionTreeClassifier"
   ]
  },
  {
   "cell_type": "code",
   "execution_count": 18,
   "metadata": {},
   "outputs": [],
   "source": [
    "# Create a Pipeline and create PCA\n",
    "pipe_with_pca_dt = make_pipeline(\n",
    "#     PCA(),\n",
    "    SelectKBest(chi2),\n",
    "    DecisionTreeClassifier()\n",
    ")"
   ]
  },
  {
   "cell_type": "code",
   "execution_count": 19,
   "metadata": {},
   "outputs": [
    {
     "name": "stdout",
     "output_type": "stream",
     "text": [
      "Fitting 15 folds for each of 800 candidates, totalling 12000 fits\n"
     ]
    },
    {
     "name": "stderr",
     "output_type": "stream",
     "text": [
      "[Parallel(n_jobs=-1)]: Using backend LokyBackend with 12 concurrent workers.\n",
      "[Parallel(n_jobs=-1)]: Done  28 tasks      | elapsed:    0.3s\n",
      "[Parallel(n_jobs=-1)]: Done 584 tasks      | elapsed:    1.7s\n",
      "[Parallel(n_jobs=-1)]: Done 2568 tasks      | elapsed:    5.9s\n",
      "[Parallel(n_jobs=-1)]: Done 5368 tasks      | elapsed:   11.5s\n",
      "[Parallel(n_jobs=-1)]: Done 8968 tasks      | elapsed:   18.6s\n",
      "[Parallel(n_jobs=-1)]: Done 12000 out of 12000 | elapsed:   24.2s finished\n"
     ]
    },
    {
     "data": {
      "text/plain": [
       "GridSearchCV(cv=15,\n",
       "             estimator=Pipeline(steps=[('selectkbest',\n",
       "                                        SelectKBest(score_func=<function chi2 at 0x7fa5389645e0>)),\n",
       "                                       ('decisiontreeclassifier',\n",
       "                                        DecisionTreeClassifier())]),\n",
       "             n_jobs=-1,\n",
       "             param_grid={'decisiontreeclassifier__ccp_alpha': [0.0, 0.03],\n",
       "                         'decisiontreeclassifier__criterion': ['entropy',\n",
       "                                                               'gini'],\n",
       "                         'decisiontreeclassifier__max_depth': [None, 1, 2, 3, 5,\n",
       "                                                               6, 7, 8, 9, 10],\n",
       "                         'decisiontreeclassifier__random_state': [42],\n",
       "                         'decisiontreeclassifier__splitter': ['best', 'random'],\n",
       "                         'selectkbest__k': [10, 11, 12, 13, 14, 15, 16, 17, 18,\n",
       "                                            19]},\n",
       "             verbose=1)"
      ]
     },
     "execution_count": 19,
     "metadata": {},
     "output_type": "execute_result"
    }
   ],
   "source": [
    "param_grid_dt = {\n",
    "#     \"pca__n_components\": list(range(1,84)), # all components explains the most variance\n",
    "    'selectkbest__k':list(range(10,20)) ,\n",
    "    \"decisiontreeclassifier__criterion\": ['entropy', 'gini'],\n",
    "    \"decisiontreeclassifier__splitter\": [\"best\", \"random\"],\n",
    "    \"decisiontreeclassifier__max_depth\": [None,1,2,3,5,6,7,8,9,10],\n",
    "    \"decisiontreeclassifier__ccp_alpha\": [0.0,0.030],\n",
    "    \"decisiontreeclassifier__random_state\" : [42],\n",
    "}\n",
    "\n",
    "griddt = GridSearchCV(\n",
    "    pipe_with_pca_dt, # model\n",
    "    param_grid_dt, # hyperparameter to tune\n",
    "    cv = 15, # K-fold cross validation\n",
    "    n_jobs=-1, # use all cores on cpu\n",
    "    verbose=1 # show output\n",
    ")\n",
    "\n",
    "griddt.fit(X_train, y_train)"
   ]
  },
  {
   "cell_type": "code",
   "execution_count": 20,
   "metadata": {},
   "outputs": [
    {
     "data": {
      "text/plain": [
       "{'decisiontreeclassifier__ccp_alpha': 0.0,\n",
       " 'decisiontreeclassifier__criterion': 'entropy',\n",
       " 'decisiontreeclassifier__max_depth': 3,\n",
       " 'decisiontreeclassifier__random_state': 42,\n",
       " 'decisiontreeclassifier__splitter': 'random',\n",
       " 'selectkbest__k': 12}"
      ]
     },
     "execution_count": 20,
     "metadata": {},
     "output_type": "execute_result"
    }
   ],
   "source": [
    "griddt.best_params_"
   ]
  },
  {
   "cell_type": "code",
   "execution_count": 21,
   "metadata": {},
   "outputs": [
    {
     "data": {
      "text/plain": [
       "0.7744781144781145"
      ]
     },
     "execution_count": 21,
     "metadata": {},
     "output_type": "execute_result"
    }
   ],
   "source": [
    "griddt.best_score_"
   ]
  },
  {
   "cell_type": "code",
   "execution_count": 22,
   "metadata": {},
   "outputs": [
    {
     "data": {
      "text/plain": [
       "0.824390243902439"
      ]
     },
     "execution_count": 22,
     "metadata": {},
     "output_type": "execute_result"
    }
   ],
   "source": [
    "preds_dt = griddt.predict(X_test)\n",
    "accuracy_score(y_test, preds_dt)"
   ]
  },
  {
   "cell_type": "code",
   "execution_count": 23,
   "metadata": {},
   "outputs": [
    {
     "data": {
      "image/png": "[encoded data removed]",
      "text/plain": [
       "<Figure size 432x288 with 2 Axes>"
      ]
     },
     "metadata": {
      "needs_background": "light"
     },
     "output_type": "display_data"
    }
   ],
   "source": [
    "plot_confusion_matrix(griddt, X_test, y_test)\n",
    "plt.grid(False);"
   ]
  },
  {
   "cell_type": "code",
   "execution_count": 24,
   "metadata": {},
   "outputs": [
    {
     "data": {
      "image/png": "[encoded data removed]",
      "text/plain": [
       "<Figure size 576x720 with 1 Axes>"
      ]
     },
     "metadata": {
      "needs_background": "light"
     },
     "output_type": "display_data"
    }
   ],
   "source": [
    "# see the importance of each columns in the model \n",
    "pd.DataFrame(dict(zip(X_train.columns, griddt.best_estimator_.named_steps['decisiontreeclassifier'].feature_importances_)), index = [1])\\\n",
    ".T\\\n",
    ".sort_values(1, ascending=True)\\\n",
    ".plot(kind=\"barh\", title=\"Feature Importances (%)\", figsize=(8, 10));\n"
   ]
  },
  {
   "cell_type": "markdown",
   "metadata": {},
   "source": [
    "### RandomForestClassifier"
   ]
  },
  {
   "cell_type": "code",
   "execution_count": 25,
   "metadata": {},
   "outputs": [],
   "source": [
    "# Create a Pipeline and create PCA\n",
    "pipe_with_pca_rf = make_pipeline(\n",
    "    PCA(),\n",
    "#     SelectKBest(score_func=chi2),\n",
    "    RandomForestClassifier()\n",
    ")"
   ]
  },
  {
   "cell_type": "code",
   "execution_count": 26,
   "metadata": {},
   "outputs": [
    {
     "name": "stdout",
     "output_type": "stream",
     "text": [
      "Fitting 5 folds for each of 90 candidates, totalling 450 fits\n"
     ]
    },
    {
     "name": "stderr",
     "output_type": "stream",
     "text": [
      "[Parallel(n_jobs=-1)]: Using backend LokyBackend with 12 concurrent workers.\n",
      "[Parallel(n_jobs=-1)]: Done  26 tasks      | elapsed:    4.0s\n",
      "[Parallel(n_jobs=-1)]: Done 176 tasks      | elapsed:   48.4s\n",
      "[Parallel(n_jobs=-1)]: Done 426 tasks      | elapsed:  2.0min\n",
      "[Parallel(n_jobs=-1)]: Done 450 out of 450 | elapsed:  2.2min finished\n"
     ]
    },
    {
     "data": {
      "text/plain": [
       "GridSearchCV(cv=5,\n",
       "             estimator=Pipeline(steps=[('pca', PCA()),\n",
       "                                       ('randomforestclassifier',\n",
       "                                        RandomForestClassifier())]),\n",
       "             n_jobs=-1,\n",
       "             param_grid={'pca__n_components': [0.3, 0.4, 0.45, 0.5, 0.52],\n",
       "                         'randomforestclassifier__criterion': ['gini',\n",
       "                                                               'entropy'],\n",
       "                         'randomforestclassifier__n_estimators': [100, 200, 300,\n",
       "                                                                  400, 500, 600,\n",
       "                                                                  700, 800,\n",
       "                                                                  900],\n",
       "                         'randomforestclassifier__random_state': [42]},\n",
       "             verbose=1)"
      ]
     },
     "execution_count": 26,
     "metadata": {},
     "output_type": "execute_result"
    }
   ],
   "source": [
    "param_grid_rf = {\n",
    "     \"pca__n_components\": [0.3,0.4,0.45,0.5,0.52], \n",
    "#     \"selectkbest__k\": list(range(1,30,2)),\n",
    "    \"randomforestclassifier__n_estimators\": [100,200,300,400,500,600,700,800,900], # how many trees in our forest\n",
    "    \"randomforestclassifier__criterion\": [\"gini\", \"entropy\"], # what criteria is used to split nodes \n",
    "    \"randomforestclassifier__random_state\" : [42],\n",
    "}\n",
    "\n",
    "grid_rf = GridSearchCV(\n",
    "    pipe_with_pca_rf, # model\n",
    "    param_grid_rf, # hyperparameter to tune\n",
    "    cv = 5, # K-fold cross validation\n",
    "    n_jobs=-1, # use all cores on cpu\n",
    "    verbose=1 # show output\n",
    ")\n",
    "\n",
    "grid_rf.fit(X_train, y_train)"
   ]
  },
  {
   "cell_type": "code",
   "execution_count": 27,
   "metadata": {},
   "outputs": [
    {
     "data": {
      "text/plain": [
       "{'pca__n_components': 0.52,\n",
       " 'randomforestclassifier__criterion': 'gini',\n",
       " 'randomforestclassifier__n_estimators': 100,\n",
       " 'randomforestclassifier__random_state': 42}"
      ]
     },
     "execution_count": 27,
     "metadata": {},
     "output_type": "execute_result"
    }
   ],
   "source": [
    "# Best Parameters\n",
    "grid_rf.best_params_"
   ]
  },
  {
   "cell_type": "code",
   "execution_count": 28,
   "metadata": {},
   "outputs": [
    {
     "data": {
      "text/plain": [
       "{'pca__n_components': 0.52,\n",
       " 'randomforestclassifier__criterion': 'gini',\n",
       " 'randomforestclassifier__n_estimators': 100,\n",
       " 'randomforestclassifier__random_state': 42}"
      ]
     },
     "execution_count": 28,
     "metadata": {},
     "output_type": "execute_result"
    }
   ],
   "source": [
    "grid_rf.best_params_"
   ]
  },
  {
   "cell_type": "code",
   "execution_count": 29,
   "metadata": {},
   "outputs": [
    {
     "data": {
      "text/plain": [
       "0.7695121951219512"
      ]
     },
     "execution_count": 29,
     "metadata": {},
     "output_type": "execute_result"
    }
   ],
   "source": [
    "grid_rf.best_score_"
   ]
  },
  {
   "cell_type": "code",
   "execution_count": 30,
   "metadata": {},
   "outputs": [
    {
     "data": {
      "text/plain": [
       "0.8146341463414634"
      ]
     },
     "execution_count": 30,
     "metadata": {},
     "output_type": "execute_result"
    }
   ],
   "source": [
    "preds_rf = grid_rf.predict(X_test)\n",
    "accuracy_score(y_test, preds_rf)"
   ]
  },
  {
   "cell_type": "code",
   "execution_count": 31,
   "metadata": {},
   "outputs": [
    {
     "data": {
      "image/png": "[encoded data removed]",
      "text/plain": [
       "<Figure size 432x288 with 2 Axes>"
      ]
     },
     "metadata": {
      "needs_background": "light"
     },
     "output_type": "display_data"
    }
   ],
   "source": [
    "plot_confusion_matrix(grid_rf, X_test, y_test)\n",
    "plt.grid(False);"
   ]
  },
  {
   "cell_type": "code",
   "execution_count": 32,
   "metadata": {},
   "outputs": [
    {
     "data": {
      "image/png": "[encoded data removed]",
      "text/plain": [
       "<Figure size 576x720 with 1 Axes>"
      ]
     },
     "metadata": {
      "needs_background": "light"
     },
     "output_type": "display_data"
    }
   ],
   "source": [
    "# see the importance of each columns in the model \n",
    "pd.DataFrame(dict(zip(X_train.columns, grid_rf.best_estimator_.named_steps['randomforestclassifier'].feature_importances_)), index = [1])\\\n",
    ".T\\\n",
    ".sort_values(1, ascending=True)\\\n",
    ".plot(kind=\"barh\", title=\"Feature Importances (%)\", figsize=(8, 10));"
   ]
  },
  {
   "cell_type": "markdown",
   "metadata": {},
   "source": [
    "### SVC"
   ]
  },
  {
   "cell_type": "code",
   "execution_count": 33,
   "metadata": {},
   "outputs": [],
   "source": [
    "# svc \n",
    "# Create a Pipeline and create PCA\n",
    "pipe_with_pca_svc = make_pipeline(\n",
    "#     PCA(),\n",
    "    SelectKBest(score_func=chi2),\n",
    "    SVC()\n",
    ")"
   ]
  },
  {
   "cell_type": "code",
   "execution_count": 34,
   "metadata": {},
   "outputs": [
    {
     "name": "stdout",
     "output_type": "stream",
     "text": [
      "Fitting 5 folds for each of 82 candidates, totalling 410 fits\n"
     ]
    },
    {
     "name": "stderr",
     "output_type": "stream",
     "text": [
      "[Parallel(n_jobs=-1)]: Using backend LokyBackend with 12 concurrent workers.\n",
      "[Parallel(n_jobs=-1)]: Done  28 tasks      | elapsed:    0.3s\n",
      "[Parallel(n_jobs=-1)]: Done 410 out of 410 | elapsed:    4.3s finished\n"
     ]
    },
    {
     "data": {
      "text/plain": [
       "GridSearchCV(cv=5,\n",
       "             estimator=Pipeline(steps=[('selectkbest',\n",
       "                                        SelectKBest(score_func=<function chi2 at 0x7fa5389645e0>)),\n",
       "                                       ('svc', SVC())]),\n",
       "             n_jobs=-1,\n",
       "             param_grid={'selectkbest__k': [2, 4, 6, 8, 10, 12, 14, 16, 18, 20,\n",
       "                                            22, 24, 26, 28, 30, 32, 34, 36, 38,\n",
       "                                            40, 42, 44, 46, 48, 50, 52, 54, 56,\n",
       "                                            58, 60, ...],\n",
       "                         'svc__kernel': ['linear', 'poly'],\n",
       "                         'svc__random_state': [42]},\n",
       "             verbose=1)"
      ]
     },
     "execution_count": 34,
     "metadata": {},
     "output_type": "execute_result"
    }
   ],
   "source": [
    "param_grid_svc = {\n",
    "#     \"pca__n_components\": [0.2,0.3,0.4,0.5,0.6,0.7,0.8,0.85,0.9], \n",
    "    \"selectkbest__k\": list(range(2,84,2)),\n",
    "    \"svc__kernel\": [\"linear\",\"poly\"], # how many trees in our forest\n",
    "    \"svc__random_state\" : [42],\n",
    "}\n",
    "\n",
    "grid_svc = GridSearchCV(\n",
    "    pipe_with_pca_svc, # model\n",
    "    param_grid_svc, # hyperparameter to tune\n",
    "    cv = 5, # K-fold cross validation\n",
    "    n_jobs=-1, # use all cores on cpu\n",
    "    verbose=1 # show output\n",
    ")\n",
    "\n",
    "grid_svc.fit(X_train, y_train)"
   ]
  },
  {
   "cell_type": "code",
   "execution_count": 35,
   "metadata": {},
   "outputs": [
    {
     "data": {
      "text/plain": [
       "{'selectkbest__k': 40, 'svc__kernel': 'poly', 'svc__random_state': 42}"
      ]
     },
     "execution_count": 35,
     "metadata": {},
     "output_type": "execute_result"
    }
   ],
   "source": [
    "# Best Parameters\n",
    "grid_svc.best_params_"
   ]
  },
  {
   "cell_type": "code",
   "execution_count": 36,
   "metadata": {},
   "outputs": [
    {
     "data": {
      "text/plain": [
       "0.7731707317073171"
      ]
     },
     "execution_count": 36,
     "metadata": {},
     "output_type": "execute_result"
    }
   ],
   "source": [
    "grid_svc.best_score_"
   ]
  },
  {
   "cell_type": "code",
   "execution_count": 37,
   "metadata": {},
   "outputs": [
    {
     "data": {
      "text/plain": [
       "0.824390243902439"
      ]
     },
     "execution_count": 37,
     "metadata": {},
     "output_type": "execute_result"
    }
   ],
   "source": [
    "preds_svc = grid_svc.predict(X_test)\n",
    "accuracy_score(y_test, preds_svc)"
   ]
  },
  {
   "cell_type": "code",
   "execution_count": 38,
   "metadata": {},
   "outputs": [
    {
     "data": {
      "image/png": "[encoded data removed]",
      "text/plain": [
       "<Figure size 432x288 with 2 Axes>"
      ]
     },
     "metadata": {
      "needs_background": "light"
     },
     "output_type": "display_data"
    }
   ],
   "source": [
    "plot_confusion_matrix(grid_svc, X_test, y_test)\n",
    "plt.grid(False);"
   ]
  },
  {
   "cell_type": "code",
   "execution_count": 39,
   "metadata": {},
   "outputs": [
    {
     "data": {
      "image/png": "[encoded data removed]",
      "text/plain": [
       "<Figure size 432x288 with 1 Axes>"
      ]
     },
     "metadata": {
      "needs_background": "light"
     },
     "output_type": "display_data"
    }
   ],
   "source": [
    "# for i in range(len(grid_svc.best_estimator_.named_steps['selectkbest'].scores_)):\n",
    "#     print('Feature %d: %f' % (i, grid_svc.best_estimator_.named_steps['selectkbest'].scores_[i]))\n",
    "# plot the scores\n",
    "plt.bar([i for i in range(len(grid_svc.best_estimator_.named_steps['selectkbest'].scores_))], grid_svc.best_estimator_.named_steps['selectkbest'].scores_)\n",
    "plt.show()"
   ]
  },
  {
   "cell_type": "markdown",
   "metadata": {},
   "source": [
    "### Conclusion"
   ]
  },
  {
   "cell_type": "code",
   "execution_count": 40,
   "metadata": {},
   "outputs": [],
   "source": [
    "def models_results(lr,dt,rf,svc):\n",
    "    print(f\"BaseLine : {y_train.value_counts(normalize=True)[0]}\")\n",
    "    print(f\"Logistic Regression : {accuracy_score(y_test, preds_lr)}\")\n",
    "    print(f\"Decision Tree Classifier : {accuracy_score(y_test, preds_dt)}\")\n",
    "    print(f\"Random Forest Classifier : {accuracy_score(y_test, preds_rf)}\")\n",
    "    print(f\"SVC : {accuracy_score(y_test, preds_svc)}\")"
   ]
  },
  {
   "cell_type": "code",
   "execution_count": 41,
   "metadata": {},
   "outputs": [
    {
     "name": "stdout",
     "output_type": "stream",
     "text": [
      "BaseLine : 0.7707317073170732\n",
      "Logistic Regression : 0.824390243902439\n",
      "Decision Tree Classifier : 0.824390243902439\n",
      "Random Forest Classifier : 0.8146341463414634\n",
      "SVC : 0.824390243902439\n"
     ]
    }
   ],
   "source": [
    "# we see the best model is Random Forest Classifier because it use as less as possible \n",
    "# for the features and give as a great result.\n",
    "models_results(preds_lr,preds_dt,preds_rf,preds_svc)"
   ]
  }
 ],
 "metadata": {
  "kernelspec": {
   "display_name": "Python 3",
   "language": "python",
   "name": "python3"
  },
  "language_info": {
   "codemirror_mode": {
    "name": "ipython",
    "version": 3
   },
   "file_extension": ".py",
   "mimetype": "text/x-python",
   "name": "python",
   "nbconvert_exporter": "python",
   "pygments_lexer": "ipython3",
   "version": "3.8.5"
  }
 },
 "nbformat": 4,
 "nbformat_minor": 4
}
